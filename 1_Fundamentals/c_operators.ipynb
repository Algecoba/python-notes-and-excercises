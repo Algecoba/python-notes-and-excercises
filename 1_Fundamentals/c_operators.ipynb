{
 "cells": [
  {
   "cell_type": "markdown",
   "id": "2a6f48bd",
   "metadata": {},
   "source": [
    "# 03 - Operadores en Python\n",
    "\n",
    "En Python, los operadores permiten realizar operaciones entre variables y valores.\n",
    "\n",
    "Los principales tipos de operadores son:\n",
    "- Operadores Aritméticos\n",
    "- Operadores de Comparación\n",
    "- Operadores Lógicos\n",
    "- Operadores de Asignación"
   ]
  },
  {
   "cell_type": "code",
   "execution_count": 1,
   "id": "7684e502",
   "metadata": {},
   "outputs": [
    {
     "name": "stdout",
     "output_type": "stream",
     "text": [
      "Suma: 13\n",
      "Resta: 7\n",
      "Multiplicación: 30\n",
      "División: 3.3333333333333335\n",
      "División entera: 3\n",
      "Módulo (residuo): 1\n",
      "Potenciación: 1000\n"
     ]
    }
   ],
   "source": [
    "# Operadores aritméticos básicos\n",
    "\n",
    "a = 10\n",
    "b = 3\n",
    "\n",
    "print(\"Suma:\", a + b)        # 13\n",
    "print(\"Resta:\", a - b)       # 7\n",
    "print(\"Multiplicación:\", a * b) # 30\n",
    "print(\"División:\", a / b)    # 3.333...\n",
    "print(\"División entera:\", a // b) # 3\n",
    "print(\"Módulo (residuo):\", a % b) # 1\n",
    "print(\"Potenciación:\", a ** b)    # 1000\n"
   ]
  },
  {
   "cell_type": "code",
   "execution_count": 2,
   "id": "a5fb10fc",
   "metadata": {},
   "outputs": [
    {
     "name": "stdout",
     "output_type": "stream",
     "text": [
      "¿x es igual a y? False\n",
      "¿x es diferente de y? True\n",
      "¿x es mayor que y? False\n",
      "¿x es menor que y? True\n",
      "¿x es mayor o igual que y? False\n",
      "¿x es menor o igual que y? True\n"
     ]
    }
   ],
   "source": [
    "# Comparan dos valores y devuelven un resultado booleano (True o False)\n",
    "\n",
    "x = 5\n",
    "y = 7\n",
    "\n",
    "print(\"¿x es igual a y?\", x == y)\n",
    "print(\"¿x es diferente de y?\", x != y)\n",
    "print(\"¿x es mayor que y?\", x > y)\n",
    "print(\"¿x es menor que y?\", x < y)\n",
    "print(\"¿x es mayor o igual que y?\", x >= y)\n",
    "print(\"¿x es menor o igual que y?\", x <= y)\n"
   ]
  },
  {
   "cell_type": "code",
   "execution_count": 3,
   "id": "5a6f43f7",
   "metadata": {},
   "outputs": [
    {
     "name": "stdout",
     "output_type": "stream",
     "text": [
      "AND lógico: False\n",
      "OR lógico: True\n",
      "NOT lógico: False\n"
     ]
    }
   ],
   "source": [
    "# Combinan valores booleanos\n",
    "\n",
    "condicion1 = True\n",
    "condicion2 = False\n",
    "\n",
    "print(\"AND lógico:\", condicion1 and condicion2)  # False\n",
    "print(\"OR lógico:\", condicion1 or condicion2)    # True\n",
    "print(\"NOT lógico:\", not condicion1)              # False\n"
   ]
  },
  {
   "cell_type": "code",
   "execution_count": 4,
   "id": "d9d0112f",
   "metadata": {},
   "outputs": [
    {
     "name": "stdout",
     "output_type": "stream",
     "text": [
      "¿El número 8 es par? True\n"
     ]
    }
   ],
   "source": [
    "# 🎯 Ejercicio 1:\n",
    "# Dado un número, verifica si es par.\n",
    "\n",
    "numero = 8\n",
    "es_par = numero % 2 == 0\n",
    "print(f\"¿El número {numero} es par?\", es_par)\n"
   ]
  },
  {
   "cell_type": "code",
   "execution_count": 5,
   "id": "892fb5dc",
   "metadata": {},
   "outputs": [
    {
     "name": "stdout",
     "output_type": "stream",
     "text": [
      "¿Puede votar? False\n"
     ]
    }
   ],
   "source": [
    "# 🎯 Ejercicio 2:\n",
    "# Verifica si una persona puede votar (edad >= 18)\n",
    "\n",
    "edad = 16\n",
    "puede_votar = edad >= 18\n",
    "print(f\"¿Puede votar?\", puede_votar)"
   ]
  },
  {
   "cell_type": "markdown",
   "id": "3d18dd84",
   "metadata": {},
   "source": [
    "### 📢 Buenas Prácticas\n",
    "- Usa paréntesis para agrupar operaciones lógicas complejas.\n",
    "- Recuerda que la división `/` siempre devuelve float.\n",
    "- Elige comparaciones claras y directas para mejorar la legibilidad.\n",
    "\n",
    "### 📝 Resumen\n",
    "- Los operadores permiten manipular datos y construir expresiones lógicas.\n",
    "- Aritméticos, de comparación y lógicos son esenciales en cualquier programa.\n",
    "- Practica combinándolos para tomar decisiones en tus scripts."
   ]
  }
 ],
 "metadata": {
  "kernelspec": {
   "display_name": "Python 3",
   "language": "python",
   "name": "python3"
  },
  "language_info": {
   "codemirror_mode": {
    "name": "ipython",
    "version": 3
   },
   "file_extension": ".py",
   "mimetype": "text/x-python",
   "name": "python",
   "nbconvert_exporter": "python",
   "pygments_lexer": "ipython3",
   "version": "3.11.2"
  }
 },
 "nbformat": 4,
 "nbformat_minor": 5
}
