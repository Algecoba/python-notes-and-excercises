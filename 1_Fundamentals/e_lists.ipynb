{
 "cells": [
  {
   "cell_type": "markdown",
   "id": "874e2b46",
   "metadata": {},
   "source": [
    "### 🎯Excercises with Lists"
   ]
  },
  {
   "cell_type": "code",
   "execution_count": 1,
   "id": "c72076a5",
   "metadata": {},
   "outputs": [
    {
     "name": "stdout",
     "output_type": "stream",
     "text": [
      "[9, 'Andres', [3, 4, 5], 9, 'Andres', [3, 4, 5]]\n"
     ]
    }
   ],
   "source": [
    "# Una lista puede contener elementos de diferentes tipos\n",
    "# de datos, como enteros, cadenas y listas anidadas.\n",
    "# En este ejemplo, se crea una lista que contiene un número entero,\n",
    "# una cadena y otra lista.\n",
    "datos = [9, \"Andres\", [3, 4, 5]]\n",
    "print(datos*2) # La lista se multiplica por 2, lo que significa que se repite dos veces."
   ]
  },
  {
   "cell_type": "markdown",
   "id": "0edc3366",
   "metadata": {},
   "source": [
    "### 📚Ranges\n",
    "Generamos listas automaticas dado un rango numérico. Es otro tipo de objeto."
   ]
  },
  {
   "cell_type": "code",
   "execution_count": null,
   "id": "95d4215b",
   "metadata": {},
   "outputs": [
    {
     "name": "stdout",
     "output_type": "stream",
     "text": [
      "[0, 1, 2, 3, 4, 5, 6, 7, 8, 9]\n"
     ]
    }
   ],
   "source": [
    "natural_numbers = list(range(0, 10)) # Se crea una lista de números del 1 al 9.\n",
    "print(natural_numbers) # Se imprime la lista de números."
   ]
  },
  {
   "cell_type": "markdown",
   "id": "81531c11",
   "metadata": {},
   "source": [
    "### 🧠 Pro Tip:\n",
    "Evitar usar nombres reservados como nombres de variables (list, dict, str, input, type, etc.).\n",
    "\n",
    "Si dudas, debemos eligir nombres más descriptivos, como my_list, nombres_lista, lista_numeros, etc."
   ]
  },
  {
   "cell_type": "code",
   "execution_count": null,
   "id": "3d511989",
   "metadata": {},
   "outputs": [
    {
     "name": "stdout",
     "output_type": "stream",
     "text": [
      "[0, 2, 4, 6, 8, 10, 12, 14, 16, 18]\n"
     ]
    }
   ],
   "source": [
    "#Podemos usar otros argumentos para crear listas, como el método list() y la función range().\n",
    "numeros_pares = list(range(0, 20, 2)) # Se crea una lista de números pares del 0 al 18.\n",
    "print(numeros_pares) # Se imprime la lista de números pares.\n",
    "#La sintaxis de range() es range(inicio, fin, paso), donde inicio es el primer número,\n",
    "#fin es el último número (no incluido) y paso es la diferencia entre cada número."
   ]
  }
 ],
 "metadata": {
  "kernelspec": {
   "display_name": "Python 3",
   "language": "python",
   "name": "python3"
  },
  "language_info": {
   "codemirror_mode": {
    "name": "ipython",
    "version": 3
   },
   "file_extension": ".py",
   "mimetype": "text/x-python",
   "name": "python",
   "nbconvert_exporter": "python",
   "pygments_lexer": "ipython3",
   "version": "3.11.2"
  }
 },
 "nbformat": 4,
 "nbformat_minor": 5
}
