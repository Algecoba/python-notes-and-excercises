{
 "cells": [
  {
   "cell_type": "markdown",
   "id": "ad399ac7",
   "metadata": {},
   "source": [
    "# 01 - La función print() en Python\n",
    "\n",
    "# Introducción\n",
    "# --------------------------------------------------\n",
    "# En Python, 'print()' es una función incorporada que permite mostrar\n",
    "# información en la consola. Es una de las primeras funciones que se aprenden,\n",
    "# y su uso es esencial para entender cómo interactuar con el usuario y\n",
    "# visualizar resultados de nuestros programas.\n",
    "\n",
    "# ¿Qué es una función en Python?\n",
    "# --------------------------------------------------\n",
    "# Una función es un bloque de código reutilizable que realiza una tarea específica.\n",
    "# Python tiene funciones predefinidas (como 'print()') y también permite crear funciones propias.\n",
    "\n",
    "# Estructura básica de una función:\n",
    "# def nombre_funcion(parámetros):\n",
    "#     bloque de instrucciones\n",
    "\n",
    "# En el caso de 'print()', no tenemos que definirla, ya que viene lista para usar."
   ]
  },
  {
   "cell_type": "code",
   "execution_count": null,
   "id": "425165fb",
   "metadata": {},
   "outputs": [
    {
     "name": "stdout",
     "output_type": "stream",
     "text": [
      "Hola, mundo\n",
      "Hola ¿Cómo estás?\n",
      "Hola, mundo\n"
     ]
    }
   ],
   "source": [
    "# Uso básico de print()\n",
    "# --------------------------------------------------\n",
    "print(\"Hola, mundo\")  # Esto imprimirá el texto en la consola.\n",
    "print(\"Hola\", \"¿Cómo estás?\")  # Imprime múltiples argumentos separados por un espacio.\n",
    "print(\"Hola\", \"mundo\", sep=\", \")  # Cambia el separador entre argumentos.\n"
   ]
  },
  {
   "cell_type": "code",
   "execution_count": null,
   "id": "a6929af2",
   "metadata": {},
   "outputs": [
    {
     "name": "stdout",
     "output_type": "stream",
     "text": [
      "Bienvenido al programa.\n",
      "El resultado de 5 + 3 es: 8\n",
      "La variable edad contiene: 25\n"
     ]
    }
   ],
   "source": [
    "# Casos de uso comunes de print()\n",
    "# --------------------------------------------------\n",
    "# 1. Mostrar mensajes al usuario\n",
    "print(\"Bienvenido al programa.\")\n",
    "\n",
    "# 2. Mostrar resultados de operaciones\n",
    "resultado = 5 + 3\n",
    "print(\"El resultado de 5 + 3 es:\", resultado)\n",
    "\n",
    "# 3. Depurar errores (debugging)\n",
    "edad = 25\n",
    "print(\"La variable edad contiene:\", edad)"
   ]
  },
  {
   "cell_type": "markdown",
   "id": "b0f5fa63",
   "metadata": {},
   "source": [
    "# Formateo de texto en print()\n",
    "# --------------------------------------------------\n",
    "# Podemos usar la función 'print()' junto con formatos para mostrar información de forma más ordenada."
   ]
  },
  {
   "cell_type": "code",
   "execution_count": 6,
   "id": "c6ad1db2",
   "metadata": {},
   "outputs": [
    {
     "name": "stdout",
     "output_type": "stream",
     "text": [
      "Hola, Alejandro\n",
      "Hola, Alejandro Corrales\n",
      "Hola, Alejandro Corrales\n"
     ]
    }
   ],
   "source": [
    "# Método 1: Usar coma (,) para separar elementos\n",
    "nombre = \"Alejandro\"\n",
    "print(\"Hola,\", nombre)\n",
    "\n",
    "# Método 2: Usar f-strings (recomendado desde Python 3.6+)\n",
    "apellido = \"Corrales\"\n",
    "print(f\"Hola, {nombre} {apellido}\")\n",
    "\n",
    "# Método 3: Usar format()\n",
    "print(\"Hola, {} {}\".format(nombre, apellido))"
   ]
  },
  {
   "cell_type": "markdown",
   "id": "c27a95e1",
   "metadata": {},
   "source": [
    "# Conclusión\n",
    "# --------------------------------------------------\n",
    "# 'print()' es una herramienta sencilla pero poderosa para la comunicación\n",
    "# en los programas. Aprender a utilizarla correctamente mejora la\n",
    "# claridad y depuración de nuestros proyectos.\n"
   ]
  }
 ],
 "metadata": {
  "kernelspec": {
   "display_name": "Python 3",
   "language": "python",
   "name": "python3"
  },
  "language_info": {
   "codemirror_mode": {
    "name": "ipython",
    "version": 3
   },
   "file_extension": ".py",
   "mimetype": "text/x-python",
   "name": "python",
   "nbconvert_exporter": "python",
   "pygments_lexer": "ipython3",
   "version": "3.11.2"
  }
 },
 "nbformat": 4,
 "nbformat_minor": 5
}
