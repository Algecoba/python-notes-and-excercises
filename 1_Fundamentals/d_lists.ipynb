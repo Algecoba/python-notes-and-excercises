{
 "cells": [
  {
   "cell_type": "markdown",
   "id": "3669e821",
   "metadata": {},
   "source": [
    "### 📚 Introducción\n",
    "\n",
    "Una lista en Python es una estructura de datos que permite almacenar múltiples elementos en un solo objeto.  \n",
    "Las listas son **ordenadas**, **mutables** (se pueden modificar) y pueden contener elementos de **diferentes tipos de datos**.\n",
    "\n",
    "Se definen usando corchetes `[]` y los elementos se separan por comas."
   ]
  },
  {
   "cell_type": "code",
   "execution_count": 10,
   "id": "553f20b4",
   "metadata": {},
   "outputs": [
    {
     "name": "stdout",
     "output_type": "stream",
     "text": [
      "[1, 2, 3, 4, 5]\n",
      "['Alejandro', 'Leidys', 'Carlos']\n",
      "[25, 'Python', 3.14, True]\n",
      "[]\n"
     ]
    }
   ],
   "source": [
    "# Crear listas\n",
    "\n",
    "# Lista de números\n",
    "numeros = [1, 2, 3, 4, 5]\n",
    "\n",
    "# Lista de strings\n",
    "nombres = [\"Alejandro\", \"Leidys\", \"Carlos\"]\n",
    "\n",
    "# Lista mixta\n",
    "mixta = [25, \"Python\", 3.14, True]\n",
    "\n",
    "# Lista vacía\n",
    "vacia = []\n",
    "\n",
    "print(numeros)\n",
    "print(nombres)\n",
    "print(mixta)\n",
    "print(vacia)"
   ]
  },
  {
   "cell_type": "code",
   "execution_count": 5,
   "id": "a701df7e",
   "metadata": {},
   "outputs": [
    {
     "name": "stdout",
     "output_type": "stream",
     "text": [
      "Alejandro\n",
      "Leidys\n",
      "Carlos\n"
     ]
    }
   ],
   "source": [
    "# Acceder a elementos (los índices empiezan en 0)\n",
    "\n",
    "print(nombres[0])  # Primer elemento\n",
    "print(nombres[1])  # Segundo elemento\n",
    "print(nombres[-1]) # Último elemento"
   ]
  },
  {
   "cell_type": "code",
   "execution_count": 11,
   "id": "2d2b1010",
   "metadata": {},
   "outputs": [
    {
     "name": "stdout",
     "output_type": "stream",
     "text": [
      "['Alejandro', 'Leidys', 'Gero']\n"
     ]
    }
   ],
   "source": [
    "# Modificar un elemento existente\n",
    "nombres[2] = \"Gero\"\n",
    "print(nombres)"
   ]
  },
  {
   "cell_type": "code",
   "execution_count": 12,
   "id": "752a41b9",
   "metadata": {},
   "outputs": [
    {
     "name": "stdout",
     "output_type": "stream",
     "text": [
      "['Alejandro', 'Leidys', 'Gero', 'Juan']\n",
      "['Alejandro', 'Sofía', 'Leidys', 'Gero', 'Juan']\n",
      "['Sofía', 'Leidys', 'Gero', 'Juan']\n",
      "['Sofía', 'Leidys', 'Gero']\n",
      "Cantidad de nombres: 3\n"
     ]
    }
   ],
   "source": [
    "# Agregar elementos\n",
    "nombres.append(\"Juan\")\n",
    "print(nombres)\n",
    "\n",
    "# Insertar en una posición específica\n",
    "nombres.insert(1, \"Sofía\")\n",
    "print(nombres)\n",
    "\n",
    "# Eliminar un elemento por valor\n",
    "nombres.remove(\"Alejandro\")\n",
    "print(nombres)\n",
    "\n",
    "# Eliminar el último elemento\n",
    "nombres.pop()\n",
    "print(nombres)\n",
    "\n",
    "# Encontrar la longitud de una lista\n",
    "print(\"Cantidad de nombres:\", len(nombres))"
   ]
  },
  {
   "cell_type": "code",
   "execution_count": 15,
   "id": "05007599",
   "metadata": {},
   "outputs": [
    {
     "name": "stdout",
     "output_type": "stream",
     "text": [
      "['Banana', 'Sandía', 'Fresa', 'Mango', 'Piña']\n"
     ]
    }
   ],
   "source": [
    "# 🎯 Ejercicio 1:\n",
    "# Agrega una fruta nueva a tu lista, elimina la primera fruta y muestra la lista actualizada.\n",
    "frutas = [\"Manzana\", \"Banana\", \"Sandía\", \"Fresa\", \"Mango\"]\n",
    "frutas.append(\"Piña\")\n",
    "frutas.pop(0)\n",
    "print(frutas)"
   ]
  },
  {
   "cell_type": "markdown",
   "id": "eba6f0d9",
   "metadata": {},
   "source": [
    "### 📢 Buenas prácticas\n",
    "\n",
    "- Usa nombres de listas en plural (ej: `nombres`, `productos`).\n",
    "- Prefiere métodos como `.append()` o `.insert()` para agregar elementos.\n",
    "- Evita mezclar muchos tipos de datos distintos en una misma lista, a menos que sea necesario."
   ]
  },
  {
   "cell_type": "markdown",
   "id": "f9c20424",
   "metadata": {},
   "source": [
    "### 📝 Resumen\n",
    "\n",
    "- Las listas almacenan colecciones ordenadas y mutables de datos.\n",
    "- Permiten acceder, modificar, agregar y eliminar elementos fácilmente.\n",
    "- Son una estructura fundamental en Python para manejar grupos de datos.\n"
   ]
  }
 ],
 "metadata": {
  "kernelspec": {
   "display_name": "Python 3",
   "language": "python",
   "name": "python3"
  },
  "language_info": {
   "codemirror_mode": {
    "name": "ipython",
    "version": 3
   },
   "file_extension": ".py",
   "mimetype": "text/x-python",
   "name": "python",
   "nbconvert_exporter": "python",
   "pygments_lexer": "ipython3",
   "version": "3.11.2"
  }
 },
 "nbformat": 4,
 "nbformat_minor": 5
}
