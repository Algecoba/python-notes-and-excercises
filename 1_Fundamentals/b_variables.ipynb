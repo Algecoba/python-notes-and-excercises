{
 "cells": [
  {
   "cell_type": "markdown",
   "id": "2fc15e7c",
   "metadata": {},
   "source": [
    "## 02 - Variables en Python\n",
    "\n",
    "\n",
    "### 📚 Notas teóricas:\n",
    "\n",
    "- Una variable es un espacio de almacenamiento en la memoria que guarda un valor que puede cambiar durante la ejecución del programa. \n",
    "- En Python, NO es necesario declarar el tipo de variable explícitamente. Python infiere el tipo de dato automáticamente.\n",
    "\n",
    "#### Reglas para nombrar variables:\n",
    " - Deben comenzar con una letra o un guión bajo (_)\n",
    " - No pueden comenzar con un número\n",
    " - Solo pueden contener letras, números y guión bajo\n",
    " - Python es sensible a mayúsculas/minúsculas (nombre != Nombre)"
   ]
  },
  {
   "cell_type": "code",
   "execution_count": 3,
   "id": "75317f3d",
   "metadata": {},
   "outputs": [
    {
     "name": "stdout",
     "output_type": "stream",
     "text": [
      "Nombre: Alejandro\n",
      "Edad: 27\n",
      "Altura: 1.75\n",
      "¿Está activo?: True\n",
      "<class 'str'>\n",
      "<class 'int'>\n",
      "<class 'float'>\n",
      "<class 'bool'>\n",
      "Edad actualizada: 28\n"
     ]
    }
   ],
   "source": [
    "# ---------------------------------------------\n",
    "# 🛠️ Ejemplos básicos:\n",
    "\n",
    "# Creación de variables\n",
    "nombre = \"Alejandro\"\n",
    "edad = 27\n",
    "altura = 1.75\n",
    "activo = True\n",
    "\n",
    "# Mostrar los valores\n",
    "print(\"Nombre:\", nombre)\n",
    "print(\"Edad:\", edad)\n",
    "print(\"Altura:\", altura)\n",
    "print(\"¿Está activo?:\", activo)\n",
    "\n",
    "# Saber el tipo de dato\n",
    "print(type(nombre))  # str (texto o caracteres)\n",
    "print(type(edad))    # int (número entero)\n",
    "print(type(altura))  # float (número decimal)\n",
    "print(type(activo))  # bool (booleano Verdadero o falso)\n",
    "# ---------------------------------------------\n",
    "\n",
    "# Cambiar el valor de una variable\n",
    "edad = 28 #La asignación de un nuevo valor a es con el signo igual (=)\n",
    "print(\"Edad actualizada:\", edad)"
   ]
  },
  {
   "cell_type": "code",
   "execution_count": 4,
   "id": "be5e234f",
   "metadata": {},
   "outputs": [
    {
     "name": "stdout",
     "output_type": "stream",
     "text": [
      "Estás aprendiendo: Python\n",
      "Compraste 3 unidades de Lápiz a 500 cada una.\n"
     ]
    }
   ],
   "source": [
    "# ---------------------------------------------\n",
    "# 🎯 Ejercicio 1:\n",
    "# Crea una variable llamada 'curso' y asígnale el valor \"Python\".\n",
    "# Luego imprime: \"Estás aprendiendo: {curso}\"\n",
    "\n",
    "# Tu código aquí:\n",
    "curso = \"Python\"\n",
    "print(f\"Estás aprendiendo: {curso}\")\n",
    "\n",
    "# ---------------------------------------------\n",
    "# 🎯 Ejercicio 2:\n",
    "# Crea tres variables: 'producto', 'precio' y 'cantidad'.\n",
    "# Muestra un mensaje como: \"Compraste {cantidad} unidades de {producto} a {precio} cada una.\"\n",
    "\n",
    "# Tu código aquí:\n",
    "producto = \"Lápiz\"\n",
    "precio = 500\n",
    "cantidad = 3\n",
    "print(f\"Compraste {cantidad} unidades de {producto} a {precio} cada una.\")"
   ]
  },
  {
   "cell_type": "markdown",
   "id": "13a99364",
   "metadata": {},
   "source": [
    "### 📢 Buenas prácticas con variables:\n",
    "\n",
    "#### 1. Usa nombres descriptivos:\n",
    "    - Correcto: edad_usuario, nombre_producto\n",
    "    - Incorrecto: x, y, dato1\n",
    "\n",
    "#### 2. Usa minúsculas y guiones bajos para separar palabras (snake_case).\n",
    "\n",
    "#### 3. Sé consistente en tu estilo de nombrado.\n",
    "\n",
    "### 📝 Resumen:\n",
    " - Las variables almacenan datos que podemos usar y modificar.\n",
    " - Python infiere automáticamente el tipo de variable.\n",
    " - Nombres claros hacen que tu código sea más legible."
   ]
  }
 ],
 "metadata": {
  "kernelspec": {
   "display_name": "Python 3",
   "language": "python",
   "name": "python3"
  },
  "language_info": {
   "codemirror_mode": {
    "name": "ipython",
    "version": 3
   },
   "file_extension": ".py",
   "mimetype": "text/x-python",
   "name": "python",
   "nbconvert_exporter": "python",
   "pygments_lexer": "ipython3",
   "version": "3.11.2"
  }
 },
 "nbformat": 4,
 "nbformat_minor": 5
}
